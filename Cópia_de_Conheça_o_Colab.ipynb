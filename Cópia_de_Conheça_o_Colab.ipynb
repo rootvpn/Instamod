{
  "cells": [
    {
      "cell_type": "markdown",
      "metadata": {
        "id": "view-in-github",
        "colab_type": "text"
      },
      "source": [
        "<a href=\"https://colab.research.google.com/github/rootvpn/Instamod/blob/main/C%C3%B3pia_de_Conhe%C3%A7a_o_Colab.ipynb\" target=\"_parent\"><img src=\"https://colab.research.google.com/assets/colab-badge.svg\" alt=\"Open In Colab\"/></a>"
      ]
    },
    {
      "cell_type": "code",
      "source": [
        "notas = []\n",
        "soma = 0\n",
        "\n",
        "while True:\n",
        "    n = input(\"Digite a nota (ou 'sair' para encerrar): \")\n",
        "    if n == \"sair\":\n",
        "        break\n",
        "    n = float(n)\n",
        "    notas.append(n)\n",
        "    soma = soma + n\n",
        "\n",
        "print(\"\\n===== RELATÓRIO FINAL =====\")\n",
        "media = soma / len(notas)\n",
        "\n",
        "if media >= 7:\n",
        "    print(\"Situação: Aprovado\")\n",
        "else:\n",
        "    print(\"Situação: Reprovado\")\n",
        "\n",
        "print(\"Notas:\", notas)\n",
        "print(\"Média:\", media)\n"
      ],
      "metadata": {
        "id": "sp5R7edQ35A1"
      },
      "execution_count": null,
      "outputs": []
    }
  ],
  "metadata": {
    "colab": {
      "provenance": [],
      "include_colab_link": true
    },
    "kernelspec": {
      "display_name": "Python 3",
      "name": "python3"
    }
  },
  "nbformat": 4,
  "nbformat_minor": 0
}